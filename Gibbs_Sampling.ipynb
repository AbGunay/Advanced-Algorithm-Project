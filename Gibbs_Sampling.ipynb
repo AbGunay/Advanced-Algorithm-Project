{
 "cells": [
  {
   "cell_type": "code",
   "execution_count": 58,
   "metadata": {},
   "outputs": [
    {
     "name": "stdout",
     "output_type": "stream",
     "text": [
      "['CAG', 'CAG', 'CAA', 'ATC', 'TAA']\n",
      "Running time of Gibbs Sampling algorithm:\n",
      "0.000221014022827\n"
     ]
    }
   ],
   "source": [
    "import random\n",
    "import time\n",
    "seq_list = list()\n",
    "\n",
    "\n",
    "\n",
    "def GibbsSampler(seq_list, l):\n",
    "    score_list = list()\n",
    "    #N - len of seqs\n",
    "    #t - count of seqs\n",
    "    #l-mers\n",
    "    t = len(seq_list)\n",
    "    N = len(seq_list[0])\n",
    "    motifs = list()\n",
    "    for seq in seq_list:\n",
    "        start_point = random.randint(0,len(seq)-l)\n",
    "        motifs.append(seq[start_point:start_point+l])\n",
    "    BestMotifs = motifs\n",
    "    seq_random = random.randint(0,len(seq_list)-1)\n",
    "    while 1:\n",
    "        \n",
    "        seq_random = random.randint(0,len(seq_list)-1)\n",
    "\n",
    "        profile = {'A':[0 for i in range(N)],'C':[0 for i in range(N)],'T':[0 for i in range(N)],'G':[0 for i in range(N)]}\n",
    "\n",
    "        for i in range(l):\n",
    "            for k in range(t):\n",
    "                if k!= seq_random:\n",
    "                    if(motifs[k][i] == 'A'):\n",
    "                        profile['A'][i] +=  (1./(t-1))\n",
    "                    elif(motifs[k][i] == 'C'):\n",
    "                        profile['C'][i] +=  (1./(t-1))\n",
    "                    elif(motifs[k][i] == 'T'):\n",
    "                        profile['T'][i] +=  (1./(t-1))\n",
    "                    elif(motifs[k][i] == 'G'):\n",
    "                        profile['G'][i] +=  (1./(t-1))\n",
    "\n",
    "                        \n",
    "        bestmotifs = motifs\n",
    "        \n",
    "\n",
    "        last_scores = score_list\n",
    "        score_list = []\n",
    "        bestscore = 0\n",
    "        bestscore_i = 0\n",
    "        for j in range(N-l+ 1):\n",
    "            score = 1\n",
    "            for p in range(j, j+l):\n",
    "                score *= profile[seq_list[seq_random][p]][p-j]\n",
    "\n",
    "\n",
    "                \n",
    "            score_list.append(score)\n",
    "        \n",
    "            if bestscore < score:\n",
    "                bestscore_i = j\n",
    "                bestscore = score\n",
    "        motifs[seq_random] = seq_list[seq_random][bestscore_i:bestscore_i+l]\n",
    "        if score_list == last_scores:\n",
    "            return motifs\n",
    "\n",
    "\n",
    "\n",
    "dna = [\"GGCGTTCAGGCA\",\"AAGAATCAGTCA\",\"CAAGGAGTTCGC\",\"CACGTCAATCAC\",\"CAATAATATTCG\"]\n",
    "start = time.time()\n",
    "motifs = GibbsSampler(dna, 3)\n",
    "end = time.time()\n",
    "\n",
    "print motifs\n",
    "print \"Running time of Gibbs Sampling algorithm:\"\n",
    "print end-start\n"
   ]
  }
 ],
 "metadata": {
  "kernelspec": {
   "display_name": "Python 2",
   "language": "python",
   "name": "python2"
  },
  "language_info": {
   "codemirror_mode": {
    "name": "ipython",
    "version": 2
   },
   "file_extension": ".py",
   "mimetype": "text/x-python",
   "name": "python",
   "nbconvert_exporter": "python",
   "pygments_lexer": "ipython2",
   "version": "2.7.12"
  }
 },
 "nbformat": 4,
 "nbformat_minor": 2
}
